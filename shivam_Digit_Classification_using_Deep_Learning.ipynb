{
  "nbformat": 4,
  "nbformat_minor": 0,
  "metadata": {
    "colab": {
      "name": "shivam  Digit Classification using Deep Learning.ipynb",
      "provenance": []
    },
    "kernelspec": {
      "name": "python3",
      "display_name": "Python 3"
    },
    "language_info": {
      "name": "python"
    }
  },
  "cells": [
    {
      "cell_type": "markdown",
      "metadata": {
        "id": "eZ5S_lUCTdOX"
      },
      "source": [
        "# Assignment 7 : Hand-written Digit Classification using Deep Learning\n",
        "\n",
        "---\n",
        "\n",
        "\n",
        "Total Points: **100**\n",
        "\n",
        "Tentative Weightage : **20%**\n",
        "\n",
        "Submission Deadline : **24th November 2021, 11:00 AM**\n",
        "\n",
        "---\n",
        "\n",
        "\n",
        "\n",
        "General Instructions:\n",
        "\n",
        "---\n",
        "\n",
        "\n",
        "1. You have to do this lab individually.\n",
        "2. Along with **tensorflow** and **keras**, you may use **seaborn, matplotlib, pandas, numpy, sklearn, scikit-learn libraries**\n",
        "3. All the code should be submitted in the form of a single colab notebook.\n",
        "4. Points for each sub-section are mentioned in the appropriate question.\n",
        "5. You can use Google colab to run a jupyter notebook (https://colab.research.google.com/) How to load data in Google Colab ?(https://towardsdatascience.com/3-ways-to-load-csv-files-into-colab-7c14fcbdcb92) (https://www.marktechpost.com/2019/06/07/how-to-connect-google-colab-with-google-drive/). \n",
        "6. The assignment must be submitted on Google classroom. The code as well as the accompanying observations should be made part of the notebook.\n",
        "7. **Code Readability** is very important. Modularize your code by making use of classes, functions that can be flexibly reused wherever necessary. Also use self explanatory variable names and add comments to describe your approach wherever necessary. You may add additional code or text blocks as necessary.\n",
        "8. You are expected to write your **observations** (preferably in a text block) and not just an error free code.\n",
        "9. You are expected to follow the **honor code** of the class.\n",
        "10. The deadline is strict and any assignment submitted later will not\n",
        "be considered for evaluation.\n",
        "11. The marks will be awarded on the basis of quality of code, use of innovative data structures, scalability, correctness, and observations made.\n",
        "12. You can add as many code or text cells in this notebook.\n",
        "13. You will have to mount your drive and change the paths according to your implementation. "
      ]
    },
    {
      "cell_type": "markdown",
      "metadata": {
        "id": "v0hOZUvWUHV6"
      },
      "source": [
        "#Dataset\n",
        "\n",
        "###About the Dataset\n",
        "\n",
        "\n",
        "The MNIST dataset is stands for the \"Modified National Institute of Standards and Technology\" dataset. <br> It consists of 70,000 square grayscale images of size 28x28 pixels. The images are of handwritten single digits<br> between 0 and 9 i.e. 10 classes are present.\n",
        "\n",
        "**This dataset comes bundled with the Keras lib. You have to use mnist dataset available in keras.datasets**"
      ]
    },
    {
      "cell_type": "markdown",
      "metadata": {
        "id": "BVn8jqYiV2ZN"
      },
      "source": [
        "#**Section 1: (10 points)**\n",
        "\n",
        "> Indented block\n",
        "\n",
        "\n",
        "\n",
        "1. Load dataset (1 point)\n",
        "\n",
        "2. The MNIST dataset provide a split of Train and Test. Display total number of train and test samples in dataset (1 point).\n",
        "\n",
        "3. print number of classes in dataset (2 points).\n",
        "\n",
        "4. show 9 samples (images) of from train data in a matplot grid of 3x3 (3 points).\n",
        "\n",
        "5. Plot a bar graph showing number of samples of each class in train dataset (3 points)"
      ]
    },
    {
      "cell_type": "code",
      "metadata": {
        "id": "ZwakSj0ojx4U"
      },
      "source": [
        "#Imports you may need, you can add or remove according to your need\n",
        "\n",
        "from keras.models import Sequential\n",
        "from keras.layers import Dense\n",
        "from keras.layers import Dropout\n",
        "from keras.utils import np_utils\n",
        "from keras.layers.convolutional import Conv2D\n",
        "from keras.layers.convolutional import MaxPooling2D\n",
        "from keras.layers import Flatten"
      ],
      "execution_count": null,
      "outputs": []
    },
    {
      "cell_type": "code",
      "metadata": {
        "id": "lOzGi6pRS03Y"
      },
      "source": [
        "#just use below given line to import the dataset from keras \n",
        "from keras.datasets import mnist\n",
        "\n"
      ],
      "execution_count": null,
      "outputs": []
    },
    {
      "cell_type": "code",
      "metadata": {
        "id": "GVxQxVU_VlGY",
        "colab": {
          "base_uri": "https://localhost:8080/"
        },
        "outputId": "302956e0-0a12-48f4-88b8-77a47f28972a"
      },
      "source": [
        "import keras\n",
        "from keras.datasets import mnist\n",
        "from keras.models import Sequential\n",
        "from keras.layers import Dense, Dropout, Flatten\n",
        "from keras.layers import Conv2D, MaxPooling2D\n",
        "from keras import backend as K\n",
        "from tensorflow.keras.utils import to_categorical\n",
        "# the data, split between train and test sets\n",
        "data = mnist.load_data()\n",
        "\n",
        "\n"
      ],
      "execution_count": null,
      "outputs": [
        {
          "output_type": "stream",
          "name": "stdout",
          "text": [
            "Downloading data from https://storage.googleapis.com/tensorflow/tf-keras-datasets/mnist.npz\n",
            "11493376/11490434 [==============================] - 0s 0us/step\n",
            "11501568/11490434 [==============================] - 0s 0us/step\n"
          ]
        }
      ]
    },
    {
      "cell_type": "code",
      "metadata": {
        "id": "8zpRjKFLZvqv"
      },
      "source": [
        "#print number of clases in dataset\n",
        "\n"
      ],
      "execution_count": null,
      "outputs": []
    },
    {
      "cell_type": "code",
      "metadata": {
        "id": "uwGbbajqV-0s",
        "colab": {
          "base_uri": "https://localhost:8080/"
        },
        "outputId": "4840bebd-8c69-4f71-c8b7-14a87b1fd497"
      },
      "source": [
        "#print number of samples in train and test \n",
        "(x_train, y_train), (x_test, y_test) =  mnist.load_data()\n",
        "print(x_train.shape, y_train.shape)\n",
        "print('x_train: ' + str(x_train.shape))\n",
        "print('y_train: ' + str(y_train.shape))\n",
        "print('x_test:  '  + str(x_test.shape))\n",
        "print('y_test:  '  + str(y_test.shape))\n"
      ],
      "execution_count": null,
      "outputs": [
        {
          "output_type": "stream",
          "name": "stdout",
          "text": [
            "(60000, 28, 28) (60000,)\n",
            "x_train: (60000, 28, 28)\n",
            "y_train: (60000,)\n",
            "x_test:  (10000, 28, 28)\n",
            "y_test:  (10000,)\n"
          ]
        }
      ]
    },
    {
      "cell_type": "code",
      "metadata": {
        "id": "DqKXHwo_WQwl",
        "colab": {
          "base_uri": "https://localhost:8080/",
          "height": 268
        },
        "outputId": "ecde02bd-d8eb-4c23-a483-9658a54fd076"
      },
      "source": [
        "#show one sample(image) of from train data\n",
        "from matplotlib import pyplot\n",
        "from matplotlib import pyplot\n",
        "for i in range(9):  \n",
        "    pyplot.subplot(330 + 1 + i)\n",
        "    pyplot.imshow(x_train[i], cmap=pyplot.get_cmap('gray'))\n",
        "pyplot.show()\n"
      ],
      "execution_count": null,
      "outputs": [
        {
          "output_type": "display_data",
          "data": {
            "image/png": "[encoded data removed]",
            "text/plain": [
              "<Figure size 432x288 with 9 Axes>"
            ]
          },
          "metadata": {
            "needs_background": "light"
          }
        }
      ]
    },
    {
      "cell_type": "markdown",
      "metadata": {
        "id": "PFYPjbqYUnVp"
      },
      "source": [
        "Plot a bar graph showing number of samples of each class in train dataset (3 points)"
      ]
    },
    {
      "cell_type": "code",
      "metadata": {
        "id": "jRHJ4LwhUpUl",
        "colab": {
          "base_uri": "https://localhost:8080/",
          "height": 312
        },
        "outputId": "f3d8bb8e-8b0b-4ba4-f3a6-bfc07eaabc86"
      },
      "source": [
        "import matplotlib.pyplot as plt\n",
        "import numpy as np\n",
        "\n",
        "unique, counts = np.unique(y_train, return_counts=True)\n",
        "plt.bar(unique, counts)\n",
        "plt.xticks(unique)\n",
        "plt.xlabel(\"Label\")\n",
        "plt.ylabel(\"Quantity\")\n",
        "plt.title(\"Labels in MNIST 784 dataset\")"
      ],
      "execution_count": null,
      "outputs": [
        {
          "output_type": "execute_result",
          "data": {
            "text/plain": [
              "Text(0.5, 1.0, 'Labels in MNIST 784 dataset')"
            ]
          },
          "metadata": {},
          "execution_count": 9
        },
        {
          "output_type": "display_data",
          "data": {
            "image/png": "[encoded data removed]",
            "text/plain": [
              "<Figure size 432x288 with 1 Axes>"
            ]
          },
          "metadata": {
            "needs_background": "light"
          }
        }
      ]
    },
    {
      "cell_type": "markdown",
      "metadata": {
        "id": "DBqJzSqMXuZH"
      },
      "source": [
        "#**Section 2: Preprocessing (20 points)**\n",
        "\n",
        "1. Reshape train and test images into (number of samples, 28, 28, 1) (5 points)\n",
        "\n",
        "2. Normalization: It is used to change the values of numeric columns in the dataset to have a common scale (5 points).\n",
        "\n",
        "3. One hot encoding: It is a type of representation used in multi class classification. Here each bit represents a possible category. Apply One hot encoding on Y_train and Y_test. (5 points)\n",
        "\n",
        "4. Split train data into train and validation data in ratio 80:20 and print count in train and validation data (5 points). You may want to read about the validation set and its uses."
      ]
    },
    {
      "cell_type": "code",
      "metadata": {
        "id": "Ofzici0GYwq5",
        "colab": {
          "base_uri": "https://localhost:8080/"
        },
        "outputId": "ce0b5f8b-547a-4186-d0d7-df4402bec995"
      },
      "source": [
        "#Reshape\n",
        "from tensorflow.keras.utils import to_categorical\n",
        "x_train = x_train.reshape(x_train.shape[0], 28, 28, 1)\n",
        "x_test = x_test.reshape(x_test.shape[0], 28, 28, 1)\n",
        "input_shape = (28, 28, 1)\n",
        "print(x_train.shape)\n"
      ],
      "execution_count": null,
      "outputs": [
        {
          "output_type": "stream",
          "name": "stdout",
          "text": [
            "(60000, 28, 28, 1)\n"
          ]
        }
      ]
    },
    {
      "cell_type": "code",
      "metadata": {
        "id": "Qyud3SyVZ7Ne",
        "colab": {
          "base_uri": "https://localhost:8080/"
        },
        "outputId": "32c3260e-5e94-42cf-a389-d042a65897d8"
      },
      "source": [
        "#Normalize\n",
        "x_train = x_train.astype('float32')\n",
        "x_test = x_test.astype('float32')\n",
        "x_train /= 255\n",
        "x_test /= 255\n",
        "print(x_train.shape)\n"
      ],
      "execution_count": null,
      "outputs": [
        {
          "output_type": "stream",
          "name": "stdout",
          "text": [
            "(60000, 28, 28, 1)\n"
          ]
        }
      ]
    },
    {
      "cell_type": "code",
      "metadata": {
        "id": "7qHMT8N9Z_EM",
        "colab": {
          "base_uri": "https://localhost:8080/"
        },
        "outputId": "a59d6681-462d-4645-f7f3-20fe12448b5d"
      },
      "source": [
        "#Perform One hot encoding\n",
        "y_train = to_categorical(y_train)\n",
        "y_test = to_categorical(y_test)\n",
        "print(y_train[0])"
      ],
      "execution_count": null,
      "outputs": [
        {
          "output_type": "stream",
          "name": "stdout",
          "text": [
            "[0. 0. 0. 0. 0. 1. 0. 0. 0. 0.]\n"
          ]
        }
      ]
    },
    {
      "cell_type": "code",
      "metadata": {
        "id": "T6ziNOgzifxb",
        "colab": {
          "base_uri": "https://localhost:8080/"
        },
        "outputId": "6bd4c56a-eca5-48eb-d3f6-708872978958"
      },
      "source": [
        "#You need to split data in train and validation data in 80:20\n",
        "import pandas as pd\n",
        "from sklearn.model_selection import train_test_split\n",
        "x_train, x_valid, y_train, y_valid = train_test_split(x_train, y_train, test_size=0.2)\n",
        "print(x_train.shape), print(y_train.shape)\n",
        "print(x_valid.shape), print(y_valid.shape)"
      ],
      "execution_count": null,
      "outputs": [
        {
          "output_type": "stream",
          "name": "stdout",
          "text": [
            "(48000, 28, 28, 1)\n",
            "(48000, 10)\n",
            "(12000, 28, 28, 1)\n",
            "(12000, 10)\n"
          ]
        },
        {
          "output_type": "execute_result",
          "data": {
            "text/plain": [
              "(None, None)"
            ]
          },
          "metadata": {},
          "execution_count": 52
        }
      ]
    },
    {
      "cell_type": "markdown",
      "metadata": {
        "id": "X4ocZdLYaO6X"
      },
      "source": [
        "#**Section 3: Model (10 points)**\n",
        "\n",
        "Create a sequential model as per the following specifications (2 points per question):<br><br> \n",
        "1. Add a Conv2D layer with 32 kernels, 3x3 filter, and relu activation\n",
        "1. Add a MaxPooling layer\n",
        "1. Add a Flatten layer\n",
        "1. Add a dense layer with 128 units and relu activation\n",
        "1. Add a dense layer with 10 units annd softmax activation\n"
      ]
    },
    {
      "cell_type": "code",
      "metadata": {
        "id": "rBlGiQ5ba0EP"
      },
      "source": [
        "def MyModel():\n",
        "    batch_size = 128\n",
        "    num_classes = 10\n",
        "    epochs = 10\n",
        "    model = Sequential()\n",
        "    model.add(Conv2D(32, kernel_size=(3, 3),activation='relu',input_shape=input_shape))\n",
        "    #model.add(Conv2D(64, (3, 3), activation='relu'))\n",
        "    model.add(MaxPooling2D(pool_size=(2, 2)))\n",
        "    #model.add(Dropout(0.25))\n",
        "    model.add(Flatten())\n",
        "    model.add(Dense(128, activation='relu'))\n",
        "    #model.add(Dropout(0.5))\n",
        "    model.add(Dense(num_classes, activation='softmax'))\n",
        "    model.compile(loss='categorical_crossentropy', optimizer='adam', metrics=['accuracy'])\n",
        "    return model\n"
      ],
      "execution_count": null,
      "outputs": []
    },
    {
      "cell_type": "code",
      "metadata": {
        "id": "1egdJgLJgF_R",
        "colab": {
          "base_uri": "https://localhost:8080/"
        },
        "outputId": "c54cb169-3cfe-4830-ff5e-d23c10ba2489"
      },
      "source": [
        "#call the above given function and print model summary\n",
        "MyModel().summary()\n"
      ],
      "execution_count": null,
      "outputs": [
        {
          "output_type": "stream",
          "name": "stdout",
          "text": [
            "Model: \"sequential_6\"\n",
            "_________________________________________________________________\n",
            " Layer (type)                Output Shape              Param #   \n",
            "=================================================================\n",
            " conv2d_7 (Conv2D)           (None, 26, 26, 32)        320       \n",
            "                                                                 \n",
            " max_pooling2d_6 (MaxPooling  (None, 13, 13, 32)       0         \n",
            " 2D)                                                             \n",
            "                                                                 \n",
            " flatten_6 (Flatten)         (None, 5408)              0         \n",
            "                                                                 \n",
            " dense_12 (Dense)            (None, 128)               692352    \n",
            "                                                                 \n",
            " dense_13 (Dense)            (None, 10)                1290      \n",
            "                                                                 \n",
            "=================================================================\n",
            "Total params: 693,962\n",
            "Trainable params: 693,962\n",
            "Non-trainable params: 0\n",
            "_________________________________________________________________\n"
          ]
        }
      ]
    },
    {
      "cell_type": "markdown",
      "metadata": {
        "id": "Nlic-8Fug8JN"
      },
      "source": [
        "#**Section 5: Model Training (20 points)**\n",
        "\n",
        "1. You need to fit the above created model with 10 epochs, batch_size as 32, and verbose as 1 (10 points).\n",
        "\n",
        "2. Plot a graph showing validation accuracy of the model during training. (5 points).\n",
        "\n",
        "3. Plot a graph showing validation loss of the model during training. (5 point)"
      ]
    },
    {
      "cell_type": "code",
      "metadata": {
        "id": "iTwfz_09gLGt",
        "colab": {
          "base_uri": "https://localhost:8080/",
          "height": 231
        },
        "outputId": "0aeceed0-688a-4449-ccc5-33ce295649bc"
      },
      "source": [
        "#fit the above created model and plot the graphs\n",
        "hist = model.fit(x_train, y_train,batch_size=32,epochs=10,verbose=1,validation_data=(x_test, y_test))\n",
        "print(\"The model has successfully trained\")\n",
        "model.save('mnist.h5')\n",
        "print(\"Saving the model as mnist.h5\")\n"
      ],
      "execution_count": null,
      "outputs": [
        {
          "output_type": "error",
          "ename": "NameError",
          "evalue": "ignored",
          "traceback": [
            "\u001b[0;31m---------------------------------------------------------------------------\u001b[0m",
            "\u001b[0;31mNameError\u001b[0m                                 Traceback (most recent call last)",
            "\u001b[0;32m<ipython-input-54-5fddc8ec0f2f>\u001b[0m in \u001b[0;36m<module>\u001b[0;34m()\u001b[0m\n\u001b[1;32m      1\u001b[0m \u001b[0;31m#fit the above created model and plot the graphs\u001b[0m\u001b[0;34m\u001b[0m\u001b[0;34m\u001b[0m\u001b[0;34m\u001b[0m\u001b[0m\n\u001b[0;32m----> 2\u001b[0;31m \u001b[0mhist\u001b[0m \u001b[0;34m=\u001b[0m \u001b[0mmodel\u001b[0m\u001b[0;34m.\u001b[0m\u001b[0mfit\u001b[0m\u001b[0;34m(\u001b[0m\u001b[0mx_train\u001b[0m\u001b[0;34m,\u001b[0m \u001b[0my_train\u001b[0m\u001b[0;34m,\u001b[0m\u001b[0mbatch_size\u001b[0m\u001b[0;34m=\u001b[0m\u001b[0;36m32\u001b[0m\u001b[0;34m,\u001b[0m\u001b[0mepochs\u001b[0m\u001b[0;34m=\u001b[0m\u001b[0;36m10\u001b[0m\u001b[0;34m,\u001b[0m\u001b[0mverbose\u001b[0m\u001b[0;34m=\u001b[0m\u001b[0;36m1\u001b[0m\u001b[0;34m,\u001b[0m\u001b[0mvalidation_data\u001b[0m\u001b[0;34m=\u001b[0m\u001b[0;34m(\u001b[0m\u001b[0mx_test\u001b[0m\u001b[0;34m,\u001b[0m \u001b[0my_test\u001b[0m\u001b[0;34m)\u001b[0m\u001b[0;34m)\u001b[0m\u001b[0;34m\u001b[0m\u001b[0;34m\u001b[0m\u001b[0m\n\u001b[0m\u001b[1;32m      3\u001b[0m \u001b[0mprint\u001b[0m\u001b[0;34m(\u001b[0m\u001b[0;34m\"The model has successfully trained\"\u001b[0m\u001b[0;34m)\u001b[0m\u001b[0;34m\u001b[0m\u001b[0;34m\u001b[0m\u001b[0m\n\u001b[1;32m      4\u001b[0m \u001b[0mmodel\u001b[0m\u001b[0;34m.\u001b[0m\u001b[0msave\u001b[0m\u001b[0;34m(\u001b[0m\u001b[0;34m'mnist.h5'\u001b[0m\u001b[0;34m)\u001b[0m\u001b[0;34m\u001b[0m\u001b[0;34m\u001b[0m\u001b[0m\n\u001b[1;32m      5\u001b[0m \u001b[0mprint\u001b[0m\u001b[0;34m(\u001b[0m\u001b[0;34m\"Saving the model as mnist.h5\"\u001b[0m\u001b[0;34m)\u001b[0m\u001b[0;34m\u001b[0m\u001b[0;34m\u001b[0m\u001b[0m\n",
            "\u001b[0;31mNameError\u001b[0m: name 'model' is not defined"
          ]
        }
      ]
    },
    {
      "cell_type": "markdown",
      "metadata": {
        "id": "XVoMXIvp7RkL"
      },
      "source": [
        "# **Section 6: Model Improvement (20 points)**\n",
        "\n",
        "Improve the CNN model by adding built earlier by adding (6 points)\n",
        "1. Add 2 more Conv2D layers after the first MaxPooling layer with 64 kernels in each new layer and 3x3 filter with relu activation\n",
        "1. Add another MaxPooling2D layer\n",
        "1. Add a \"Dropout\" layer with parameter 0.2\n",
        "\n",
        "Rest layers remains the same as the previous model.\n",
        "\n",
        "1. Fit the above created improved model with 10 epochs, batch_size as 32, and verbose as 1 (10 points).\n",
        "\n",
        "2. Plot a graph showing validation accuracy of the model during training. (2 points).\n",
        "\n",
        "3. Plot a graph showing validation loss of the model during training. (2 point)\n",
        "\n",
        "\n",
        "\n"
      ]
    },
    {
      "cell_type": "code",
      "metadata": {
        "id": "PBZsx_O77_Cq"
      },
      "source": [
        "def Improved_Model():\n",
        "\tmodel = Sequential()\n",
        "\t#create the improved model\n",
        " \n",
        "\t# Compile model\n",
        "\tmodel.compile(loss='categorical_crossentropy', optimizer='adam', metrics=['accuracy'])\n",
        "\treturn model"
      ],
      "execution_count": null,
      "outputs": []
    },
    {
      "cell_type": "code",
      "metadata": {
        "id": "utYbBb4q-bsh"
      },
      "source": [
        "#call the above given function for improved model and print model summary\n"
      ],
      "execution_count": null,
      "outputs": []
    },
    {
      "cell_type": "code",
      "metadata": {
        "id": "zt6fh6hlA8hA"
      },
      "source": [
        "#fit the model and show plots"
      ],
      "execution_count": null,
      "outputs": []
    },
    {
      "cell_type": "markdown",
      "metadata": {
        "id": "isIdQNn2ggPP"
      },
      "source": [
        "#**Section 6: Model Evaluation (20 points)**\n",
        "\n",
        "You need to evaluate the performance of both the models on test data and print accuracy and loss (5 points). Further, comment on the performance of each model."
      ]
    },
    {
      "cell_type": "code",
      "metadata": {
        "id": "tXioMjr7gUwb",
        "colab": {
          "base_uri": "https://localhost:8080/",
          "height": 312
        },
        "outputId": "a4047f1a-6f5f-493d-f485-f5a9162e4b3e"
      },
      "source": [
        "#Your code and comments here\n",
        "# importing the required module\n",
        "import matplotlib.pyplot as plt\n",
        "  \n",
        "# x axis values\n",
        "x = [1,2,3,4,5,6,7,8,9,10,11,12]\n",
        "# corresponding y axis values\n",
        "y1 = [1.35683,0.0746775,0.276476,1.38393,0.0792566,0.296844,1.3834,0.0704347,0.286304,1.36072,0.0725763,0.291852]\n",
        "y2 = [\n",
        "1.35698,\n",
        "0.0719395,\n",
        "0.272787,\n",
        "1.38393,\n",
        "0.0706795,\n",
        "0.28873,\n",
        "1.38347,\n",
        "0.071012,\n",
        "0.276823,\n",
        "1.36072,\n",
        "0.0733096,\n",
        "0.287524]\n",
        "y3 = [\n",
        "1.3976,\n",
        "0.0719555,\n",
        "0.270854,\n",
        "1.38393,\n",
        "0.0744536,\n",
        "0.290549,\n",
        "1.38347,\n",
        "0.0701979,\n",
        "0.270406,\n",
        "1.36071,\n",
        "0.0739882,\n",
        "0.270492]\n",
        "y4 = [1.39546,\n",
        "0.0712296,\n",
        "0.274075,\n",
        "1.38393,\n",
        "0.0749594,\n",
        "0.290553,\n",
        "1.38347,\n",
        "0.07037,\n",
        "0.273369,\n",
        "1.36072,\n",
        "0.0737302,\n",
        "0.281043]\n",
        "\n",
        "# plotting the points \n",
        "plt.plot(x, y1, color='green', linestyle='dashed', linewidth = 3,\n",
        "         marker='o', markerfacecolor='blue', markersize=12,  label = \"trace1 + trace2\")\n",
        "\n",
        "plt.plot(x, y2, color='blue', linestyle='dashed', linewidth = 3,\n",
        "         marker='o', markerfacecolor='pink', markersize=12,  label = \"t3 + t4\")\n",
        "\n",
        "plt.plot(x, y3, color='yellow', linestyle='dashed', linewidth = 3,\n",
        "         marker='o', markerfacecolor='pink', markersize=12,  label = \"t5 + t6\")\n",
        "\n",
        "plt.plot(x, y3, color='brown', linestyle='dashed', linewidth = 3,\n",
        "         marker='o', markerfacecolor='pink', markersize=12,  label = \"t7 + t8\")\n",
        "  \n",
        "# naming the x axis\n",
        "plt.xlabel('Conditions')\n",
        "# naming the y axis\n",
        "plt.ylabel('IPC')\n",
        "  \n",
        "# giving a title to my graph\n",
        "plt.title('IPC of CPU 0 on different condition')\n",
        "plt.legend()\n",
        "  \n",
        "# function \n"
      ],
      "execution_count": null,
      "outputs": [
        {
          "output_type": "execute_result",
          "data": {
            "text/plain": [
              "<matplotlib.legend.Legend at 0x7f2aca231810>"
            ]
          },
          "metadata": {},
          "execution_count": 4
        },
        {
          "output_type": "display_data",
          "data": {
            "text/plain": [
              "<Figure size 432x288 with 1 Axes>"
            ],
            "image/png": "[encoded data removed]"
          },
          "metadata": {
            "needs_background": "light"
          }
        }
      ]
    }
  ]
}